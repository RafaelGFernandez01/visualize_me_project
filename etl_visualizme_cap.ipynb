{
 "cells": [
  {
   "cell_type": "code",
   "execution_count": 1,
   "metadata": {},
   "outputs": [],
   "source": [
    "# Importing variables\n",
    "import pandas as pd\n",
    "from pandas.io import sql\n",
    "from sqlalchemy import create_engine, inspect"
   ]
  },
  {
   "cell_type": "markdown",
   "metadata": {},
   "source": [
    "### Extracting excels into DataFrame"
   ]
  },
  {
   "cell_type": "code",
   "execution_count": 2,
   "metadata": {},
   "outputs": [
    {
     "output_type": "execute_result",
     "data": {
      "text/plain": [
       "     HTS Code                               HTS Code Description  \\\n",
       "0  2823001000  DIÓXIDO DE TITANIUM (O ANHIDRIDO OXIDO TITANIC...   \n",
       "1  2823001000  DIÓXIDO DE TITANIUM (O ANHIDRIDO OXIDO TITANIC...   \n",
       "2  2823001000  DIÓXIDO DE TITANIUM (O ANHIDRIDO OXIDO TITANIC...   \n",
       "3  2823001000  DIÓXIDO DE TITANIUM (O ANHIDRIDO OXIDO TITANIC...   \n",
       "4  2823001000  DIÓXIDO DE TITANIUM (O ANHIDRIDO OXIDO TITANIC...   \n",
       "\n",
       "                Custom         DUA       Date        ETA            B/L  \\\n",
       "0  MARITIMA DEL CALLAO  059075 | 3 2021-02-13 2021-02-16   118-2021-299   \n",
       "1  MARITIMA DEL CALLAO  004941 | 1 2021-01-07 2021-01-09  118-2020-2907   \n",
       "2  MARITIMA DEL CALLAO  042889 | 3 2021-02-02 2021-02-06   118-2021-191   \n",
       "3  MARITIMA DEL CALLAO  059075 | 4 2021-02-13 2021-02-16   118-2021-299   \n",
       "4  MARITIMA DEL CALLAO  004941 | 5 2021-01-07 2021-01-09  118-2020-2907   \n",
       "\n",
       "        Tax ID                                           Importer  \\\n",
       "0  20600346149  ANYPSA CORPORATION SOCIEDAD ANONIMA - ANYPSA C...   \n",
       "1  20600346149  ANYPSA CORPORATION SOCIEDAD ANONIMA - ANYPSA C...   \n",
       "2  20600346149  ANYPSA CORPORATION SOCIEDAD ANONIMA - ANYPSA C...   \n",
       "3  20600346149  ANYPSA CORPORATION SOCIEDAD ANONIMA - ANYPSA C...   \n",
       "4  20600346149  ANYPSA CORPORATION SOCIEDAD ANONIMA - ANYPSA C...   \n",
       "\n",
       "                  Shipper / Exporter  ...  AntiDumping  Loading Date  \\\n",
       "0  CHEMOURS INTERNATIONAL OPERATIONS  ...            0       44256.0   \n",
       "1        THE CHEMOURS COMPANY FC,LLC  ...            0       44169.0   \n",
       "2  CHEMOURS INTERNATIONAL OPERATIONS  ...            0       44191.0   \n",
       "3  CHEMOURS INTERNATIONAL OPERATIONS  ...            0       44256.0   \n",
       "4        THE CHEMOURS COMPANY FC,LLC  ...            0       44169.0   \n",
       "\n",
       "                          Description1        Description2    Description3  \\\n",
       "0  DIOXIDO DE TITANIO  TI-PURE S/M S/M  DIOXIDO DE TITANIO  USO INDUSTRIAL   \n",
       "1           DIOXIDO DE TITANIO S/M S/M  DIOXIDO DE TITANIO  USO INDUSTRIAL   \n",
       "2   DIOXIDO DE TITANIO TI PURE S/M S/M  DIOXIDO DE TITANIO  USO INDUSTRIAL   \n",
       "3  DIOXIDO DE TITANIO  TI-PURE S/M S/M  DIOXIDO DE TITANIO  USO INDUSTRIAL   \n",
       "4           DIOXIDO DE TITANIO S/M S/M  DIOXIDO DE TITANIO  USO INDUSTRIAL   \n",
       "\n",
       "                                        Description4  \\\n",
       "0       TI-PURE TITANIUM DIOXIDE R900 EX55 25 KG BAG   \n",
       "1  LOTE: 930324/0008-0009, 930326/0017-0034 - PRO...   \n",
       "2                                           D0091882   \n",
       "3       TI-PURE TITANIUM DIOXIDE R900 EX55 25 KG BAG   \n",
       "4  LOTE: 930329/0034-0049, 930329/0051-0053, 9303...   \n",
       "\n",
       "                                      Description5  Shipping Line  \\\n",
       "0             TI-PURE R900 / 800 BAGS DE 25 KG C/U            NaN   \n",
       "1  TI-PURE TITANIUM DIOXIDE R900-38 EX55 55.066 LB            NaN   \n",
       "2               TI-PURE TITANIUM DIOXIDE R900 EX55            NaN   \n",
       "3             TI-PURE R900 / 800 BAGS DE 25 KG C/U            NaN   \n",
       "4  TI-PURE TITANIUM DIOXIDE R900-38 EX55 55.066 LB            NaN   \n",
       "\n",
       "   Forwarding Agent(Origin)  Forwarding Agent(Destination)  \n",
       "0                       NaN                            NaN  \n",
       "1                       NaN                            NaN  \n",
       "2                       NaN                            NaN  \n",
       "3                       NaN                            NaN  \n",
       "4                       NaN                            NaN  \n",
       "\n",
       "[5 rows x 56 columns]"
      ],
      "text/html": "<div>\n<style scoped>\n    .dataframe tbody tr th:only-of-type {\n        vertical-align: middle;\n    }\n\n    .dataframe tbody tr th {\n        vertical-align: top;\n    }\n\n    .dataframe thead th {\n        text-align: right;\n    }\n</style>\n<table border=\"1\" class=\"dataframe\">\n  <thead>\n    <tr style=\"text-align: right;\">\n      <th></th>\n      <th>HTS Code</th>\n      <th>HTS Code Description</th>\n      <th>Custom</th>\n      <th>DUA</th>\n      <th>Date</th>\n      <th>ETA</th>\n      <th>B/L</th>\n      <th>Tax ID</th>\n      <th>Importer</th>\n      <th>Shipper / Exporter</th>\n      <th>...</th>\n      <th>AntiDumping</th>\n      <th>Loading Date</th>\n      <th>Description1</th>\n      <th>Description2</th>\n      <th>Description3</th>\n      <th>Description4</th>\n      <th>Description5</th>\n      <th>Shipping Line</th>\n      <th>Forwarding Agent(Origin)</th>\n      <th>Forwarding Agent(Destination)</th>\n    </tr>\n  </thead>\n  <tbody>\n    <tr>\n      <th>0</th>\n      <td>2823001000</td>\n      <td>DIÓXIDO DE TITANIUM (O ANHIDRIDO OXIDO TITANIC...</td>\n      <td>MARITIMA DEL CALLAO</td>\n      <td>059075 | 3</td>\n      <td>2021-02-13</td>\n      <td>2021-02-16</td>\n      <td>118-2021-299</td>\n      <td>20600346149</td>\n      <td>ANYPSA CORPORATION SOCIEDAD ANONIMA - ANYPSA C...</td>\n      <td>CHEMOURS INTERNATIONAL OPERATIONS</td>\n      <td>...</td>\n      <td>0</td>\n      <td>44256.0</td>\n      <td>DIOXIDO DE TITANIO  TI-PURE S/M S/M</td>\n      <td>DIOXIDO DE TITANIO</td>\n      <td>USO INDUSTRIAL</td>\n      <td>TI-PURE TITANIUM DIOXIDE R900 EX55 25 KG BAG</td>\n      <td>TI-PURE R900 / 800 BAGS DE 25 KG C/U</td>\n      <td>NaN</td>\n      <td>NaN</td>\n      <td>NaN</td>\n    </tr>\n    <tr>\n      <th>1</th>\n      <td>2823001000</td>\n      <td>DIÓXIDO DE TITANIUM (O ANHIDRIDO OXIDO TITANIC...</td>\n      <td>MARITIMA DEL CALLAO</td>\n      <td>004941 | 1</td>\n      <td>2021-01-07</td>\n      <td>2021-01-09</td>\n      <td>118-2020-2907</td>\n      <td>20600346149</td>\n      <td>ANYPSA CORPORATION SOCIEDAD ANONIMA - ANYPSA C...</td>\n      <td>THE CHEMOURS COMPANY FC,LLC</td>\n      <td>...</td>\n      <td>0</td>\n      <td>44169.0</td>\n      <td>DIOXIDO DE TITANIO S/M S/M</td>\n      <td>DIOXIDO DE TITANIO</td>\n      <td>USO INDUSTRIAL</td>\n      <td>LOTE: 930324/0008-0009, 930326/0017-0034 - PRO...</td>\n      <td>TI-PURE TITANIUM DIOXIDE R900-38 EX55 55.066 LB</td>\n      <td>NaN</td>\n      <td>NaN</td>\n      <td>NaN</td>\n    </tr>\n    <tr>\n      <th>2</th>\n      <td>2823001000</td>\n      <td>DIÓXIDO DE TITANIUM (O ANHIDRIDO OXIDO TITANIC...</td>\n      <td>MARITIMA DEL CALLAO</td>\n      <td>042889 | 3</td>\n      <td>2021-02-02</td>\n      <td>2021-02-06</td>\n      <td>118-2021-191</td>\n      <td>20600346149</td>\n      <td>ANYPSA CORPORATION SOCIEDAD ANONIMA - ANYPSA C...</td>\n      <td>CHEMOURS INTERNATIONAL OPERATIONS</td>\n      <td>...</td>\n      <td>0</td>\n      <td>44191.0</td>\n      <td>DIOXIDO DE TITANIO TI PURE S/M S/M</td>\n      <td>DIOXIDO DE TITANIO</td>\n      <td>USO INDUSTRIAL</td>\n      <td>D0091882</td>\n      <td>TI-PURE TITANIUM DIOXIDE R900 EX55</td>\n      <td>NaN</td>\n      <td>NaN</td>\n      <td>NaN</td>\n    </tr>\n    <tr>\n      <th>3</th>\n      <td>2823001000</td>\n      <td>DIÓXIDO DE TITANIUM (O ANHIDRIDO OXIDO TITANIC...</td>\n      <td>MARITIMA DEL CALLAO</td>\n      <td>059075 | 4</td>\n      <td>2021-02-13</td>\n      <td>2021-02-16</td>\n      <td>118-2021-299</td>\n      <td>20600346149</td>\n      <td>ANYPSA CORPORATION SOCIEDAD ANONIMA - ANYPSA C...</td>\n      <td>CHEMOURS INTERNATIONAL OPERATIONS</td>\n      <td>...</td>\n      <td>0</td>\n      <td>44256.0</td>\n      <td>DIOXIDO DE TITANIO  TI-PURE S/M S/M</td>\n      <td>DIOXIDO DE TITANIO</td>\n      <td>USO INDUSTRIAL</td>\n      <td>TI-PURE TITANIUM DIOXIDE R900 EX55 25 KG BAG</td>\n      <td>TI-PURE R900 / 800 BAGS DE 25 KG C/U</td>\n      <td>NaN</td>\n      <td>NaN</td>\n      <td>NaN</td>\n    </tr>\n    <tr>\n      <th>4</th>\n      <td>2823001000</td>\n      <td>DIÓXIDO DE TITANIUM (O ANHIDRIDO OXIDO TITANIC...</td>\n      <td>MARITIMA DEL CALLAO</td>\n      <td>004941 | 5</td>\n      <td>2021-01-07</td>\n      <td>2021-01-09</td>\n      <td>118-2020-2907</td>\n      <td>20600346149</td>\n      <td>ANYPSA CORPORATION SOCIEDAD ANONIMA - ANYPSA C...</td>\n      <td>THE CHEMOURS COMPANY FC,LLC</td>\n      <td>...</td>\n      <td>0</td>\n      <td>44169.0</td>\n      <td>DIOXIDO DE TITANIO S/M S/M</td>\n      <td>DIOXIDO DE TITANIO</td>\n      <td>USO INDUSTRIAL</td>\n      <td>LOTE: 930329/0034-0049, 930329/0051-0053, 9303...</td>\n      <td>TI-PURE TITANIUM DIOXIDE R900-38 EX55 55.066 LB</td>\n      <td>NaN</td>\n      <td>NaN</td>\n      <td>NaN</td>\n    </tr>\n  </tbody>\n</table>\n<p>5 rows × 56 columns</p>\n</div>"
     },
     "metadata": {},
     "execution_count": 2
    }
   ],
   "source": [
    "data_file = \"./Resources/data.xlsx\"\n",
    "data_df = pd.read_excel(data_file)\n",
    "data_df.head()"
   ]
  },
  {
   "cell_type": "code",
   "execution_count": 3,
   "metadata": {},
   "outputs": [
    {
     "output_type": "execute_result",
     "data": {
      "text/plain": [
       "                                                             0  \\\n",
       "FID                                    wld_trs_ports_wfp.17534   \n",
       "port_name                                             A\n",
       "lesund   \n",
       "code                                                     NOAES   \n",
       "prttype                                                    Sea   \n",
       "prtsize                                                Unknown   \n",
       "status                                                 Unknown   \n",
       "maxdepth                                                   NaN   \n",
       "maxlength                                                  NaN   \n",
       "annualcapacitymt                                           NaN   \n",
       "humuse                                                 Unknown   \n",
       "locprecision                                          accurate   \n",
       "latitude                                              62.47299   \n",
       "longitude                                              6.15274   \n",
       "iso3                                                       NOR   \n",
       "iso3_op                                                    NOR   \n",
       "country                                                 Norway   \n",
       "lastcheckdate                                              NaT   \n",
       "remarks                                                    NaN   \n",
       "url_lca                                                    NaN   \n",
       "source                                                     NaN   \n",
       "createdate                          2021-02-24 11:54:56.019000   \n",
       "updatedate                          2021-02-24 11:54:56.019000   \n",
       "geonameid                                              3163392   \n",
       "gdb_geomattr_data                                          NaN   \n",
       "shape              POINT (6.152741796999976 62.47298997399997)   \n",
       "Unnamed: 25                                                NaN   \n",
       "Unnamed: 26                                                NaN   \n",
       "Unnamed: 27                                                NaN   \n",
       "Unnamed: 28                                                NaN   \n",
       "Unnamed: 29                                                NaN   \n",
       "Unnamed: 30                                                NaN   \n",
       "Unnamed: 31                                                NaN   \n",
       "Unnamed: 32                                                NaN   \n",
       "Duplicates                                               False   \n",
       "\n",
       "                                                             1  \\\n",
       "FID                                    wld_trs_ports_wfp.16499   \n",
       "port_name                                             Aabenraa   \n",
       "code                                                     DKAAB   \n",
       "prttype                                                    Sea   \n",
       "prtsize                                                Unknown   \n",
       "status                                                 Unknown   \n",
       "maxdepth                                                   NaN   \n",
       "maxlength                                                  NaN   \n",
       "annualcapacitymt                                           NaN   \n",
       "humuse                                                 Unknown   \n",
       "locprecision                                          accurate   \n",
       "latitude                                              55.03933   \n",
       "longitude                                               9.4267   \n",
       "iso3                                                       DNK   \n",
       "iso3_op                                                    DNK   \n",
       "country                                                Denmark   \n",
       "lastcheckdate                                              NaT   \n",
       "remarks                                                    NaN   \n",
       "url_lca                                                    NaN   \n",
       "source                                                     NaN   \n",
       "createdate                          2021-02-24 11:54:14.295000   \n",
       "updatedate                          2021-02-24 11:54:14.295000   \n",
       "geonameid                                              2625070   \n",
       "gdb_geomattr_data                                          NaN   \n",
       "shape              POINT (9.426701115000014 55.03933386800003)   \n",
       "Unnamed: 25                                                NaN   \n",
       "Unnamed: 26                                                NaN   \n",
       "Unnamed: 27                                                NaN   \n",
       "Unnamed: 28                                                NaN   \n",
       "Unnamed: 29                                                NaN   \n",
       "Unnamed: 30                                                NaN   \n",
       "Unnamed: 31                                                NaN   \n",
       "Unnamed: 32                                                NaN   \n",
       "Duplicates                                               False   \n",
       "\n",
       "                                                            2  \\\n",
       "FID                                   wld_trs_ports_wfp.14985   \n",
       "port_name                                             Aalborg   \n",
       "code                                                    DKAAL   \n",
       "prttype                                                   Sea   \n",
       "prtsize                                               Unknown   \n",
       "status                                                Unknown   \n",
       "maxdepth                                                  NaN   \n",
       "maxlength                                                 NaN   \n",
       "annualcapacitymt                                          NaN   \n",
       "humuse                                                Unknown   \n",
       "locprecision                                         accurate   \n",
       "latitude                                             57.04611   \n",
       "longitude                                             9.93831   \n",
       "iso3                                                      DNK   \n",
       "iso3_op                                                   DNK   \n",
       "country                                               Denmark   \n",
       "lastcheckdate                                             NaT   \n",
       "remarks                                                   NaN   \n",
       "url_lca                                                   NaN   \n",
       "source                                                    NaN   \n",
       "createdate                         2021-02-24 11:52:47.493000   \n",
       "updatedate                         2021-02-24 11:52:47.493000   \n",
       "geonameid                                             2624886   \n",
       "gdb_geomattr_data                                         NaN   \n",
       "shape              POINT (9.93830628500001 57.04611372199997)   \n",
       "Unnamed: 25                                               NaN   \n",
       "Unnamed: 26                                               NaN   \n",
       "Unnamed: 27                                               NaN   \n",
       "Unnamed: 28                                               NaN   \n",
       "Unnamed: 29                                               NaN   \n",
       "Unnamed: 30                                               NaN   \n",
       "Unnamed: 31                                               NaN   \n",
       "Unnamed: 32                                               NaN   \n",
       "Duplicates                                              False   \n",
       "\n",
       "                                                             3  \\\n",
       "FID                                    wld_trs_ports_wfp.17111   \n",
       "port_name                                               Aarhus   \n",
       "code                                                       NaN   \n",
       "prttype                                                Unknown   \n",
       "prtsize                                                Unknown   \n",
       "status                                                 Unknown   \n",
       "maxdepth                                                   NaN   \n",
       "maxlength                                                  NaN   \n",
       "annualcapacitymt                                           NaN   \n",
       "humuse                                                 Unknown   \n",
       "locprecision                                          accurate   \n",
       "latitude                                                 56.15   \n",
       "longitude                                             10.21667   \n",
       "iso3                                                       DNK   \n",
       "iso3_op                                                    DNK   \n",
       "country                                                Denmark   \n",
       "lastcheckdate                                              NaT   \n",
       "remarks                                                    NaN   \n",
       "url_lca                                                    NaN   \n",
       "source                                                     NaN   \n",
       "createdate                          2021-02-24 11:54:14.295000   \n",
       "updatedate                          2021-02-24 11:54:14.295000   \n",
       "geonameid                                              2624652   \n",
       "gdb_geomattr_data                                          NaN   \n",
       "shape              POINT (10.21666555600001 56.15000027799999)   \n",
       "Unnamed: 25                                                NaN   \n",
       "Unnamed: 26                                                NaN   \n",
       "Unnamed: 27                                                NaN   \n",
       "Unnamed: 28                                                NaN   \n",
       "Unnamed: 29                                                NaN   \n",
       "Unnamed: 30                                                NaN   \n",
       "Unnamed: 31                                                NaN   \n",
       "Unnamed: 32                                                NaN   \n",
       "Duplicates                                               False   \n",
       "\n",
       "                                                              4  \n",
       "FID                                     wld_trs_ports_wfp.16713  \n",
       "port_name                                                Abadan  \n",
       "code                                                      IRABD  \n",
       "prttype                                                   River  \n",
       "prtsize                                                  Medium  \n",
       "status                                                     Open  \n",
       "maxdepth                                                    NaN  \n",
       "maxlength                                                   NaN  \n",
       "annualcapacitymt                                            NaN  \n",
       "humuse                                                  Unknown  \n",
       "locprecision                                           accurate  \n",
       "latitude                                               30.33011  \n",
       "longitude                                               48.2824  \n",
       "iso3                                                        IRN  \n",
       "iso3_op                                                     IRN  \n",
       "country                             Iran  (Islamic Republic of)  \n",
       "lastcheckdate                                               NaT  \n",
       "remarks                                                     NaN  \n",
       "url_lca                                                     NaN  \n",
       "source                                                      NaN  \n",
       "createdate                           2021-02-24 11:54:14.295000  \n",
       "updatedate                           2021-02-24 11:54:14.295000  \n",
       "geonameid                                                145459  \n",
       "gdb_geomattr_data                                           NaN  \n",
       "shape              POINT (48.28239780199999 30.330114913999978)  \n",
       "Unnamed: 25                                                 NaN  \n",
       "Unnamed: 26                                                 NaN  \n",
       "Unnamed: 27                                                 NaN  \n",
       "Unnamed: 28                                                 NaN  \n",
       "Unnamed: 29                                                 NaN  \n",
       "Unnamed: 30                                                 NaN  \n",
       "Unnamed: 31                                                 NaN  \n",
       "Unnamed: 32                                                 NaN  \n",
       "Duplicates                                                False  "
      ],
      "text/html": "<div>\n<style scoped>\n    .dataframe tbody tr th:only-of-type {\n        vertical-align: middle;\n    }\n\n    .dataframe tbody tr th {\n        vertical-align: top;\n    }\n\n    .dataframe thead th {\n        text-align: right;\n    }\n</style>\n<table border=\"1\" class=\"dataframe\">\n  <thead>\n    <tr style=\"text-align: right;\">\n      <th></th>\n      <th>0</th>\n      <th>1</th>\n      <th>2</th>\n      <th>3</th>\n      <th>4</th>\n    </tr>\n  </thead>\n  <tbody>\n    <tr>\n      <th>FID</th>\n      <td>wld_trs_ports_wfp.17534</td>\n      <td>wld_trs_ports_wfp.16499</td>\n      <td>wld_trs_ports_wfp.14985</td>\n      <td>wld_trs_ports_wfp.17111</td>\n      <td>wld_trs_ports_wfp.16713</td>\n    </tr>\n    <tr>\n      <th>port_name</th>\n      <td>Alesund</td>\n      <td>Aabenraa</td>\n      <td>Aalborg</td>\n      <td>Aarhus</td>\n      <td>Abadan</td>\n    </tr>\n    <tr>\n      <th>code</th>\n      <td>NOAES</td>\n      <td>DKAAB</td>\n      <td>DKAAL</td>\n      <td>NaN</td>\n      <td>IRABD</td>\n    </tr>\n    <tr>\n      <th>prttype</th>\n      <td>Sea</td>\n      <td>Sea</td>\n      <td>Sea</td>\n      <td>Unknown</td>\n      <td>River</td>\n    </tr>\n    <tr>\n      <th>prtsize</th>\n      <td>Unknown</td>\n      <td>Unknown</td>\n      <td>Unknown</td>\n      <td>Unknown</td>\n      <td>Medium</td>\n    </tr>\n    <tr>\n      <th>status</th>\n      <td>Unknown</td>\n      <td>Unknown</td>\n      <td>Unknown</td>\n      <td>Unknown</td>\n      <td>Open</td>\n    </tr>\n    <tr>\n      <th>maxdepth</th>\n      <td>NaN</td>\n      <td>NaN</td>\n      <td>NaN</td>\n      <td>NaN</td>\n      <td>NaN</td>\n    </tr>\n    <tr>\n      <th>maxlength</th>\n      <td>NaN</td>\n      <td>NaN</td>\n      <td>NaN</td>\n      <td>NaN</td>\n      <td>NaN</td>\n    </tr>\n    <tr>\n      <th>annualcapacitymt</th>\n      <td>NaN</td>\n      <td>NaN</td>\n      <td>NaN</td>\n      <td>NaN</td>\n      <td>NaN</td>\n    </tr>\n    <tr>\n      <th>humuse</th>\n      <td>Unknown</td>\n      <td>Unknown</td>\n      <td>Unknown</td>\n      <td>Unknown</td>\n      <td>Unknown</td>\n    </tr>\n    <tr>\n      <th>locprecision</th>\n      <td>accurate</td>\n      <td>accurate</td>\n      <td>accurate</td>\n      <td>accurate</td>\n      <td>accurate</td>\n    </tr>\n    <tr>\n      <th>latitude</th>\n      <td>62.47299</td>\n      <td>55.03933</td>\n      <td>57.04611</td>\n      <td>56.15</td>\n      <td>30.33011</td>\n    </tr>\n    <tr>\n      <th>longitude</th>\n      <td>6.15274</td>\n      <td>9.4267</td>\n      <td>9.93831</td>\n      <td>10.21667</td>\n      <td>48.2824</td>\n    </tr>\n    <tr>\n      <th>iso3</th>\n      <td>NOR</td>\n      <td>DNK</td>\n      <td>DNK</td>\n      <td>DNK</td>\n      <td>IRN</td>\n    </tr>\n    <tr>\n      <th>iso3_op</th>\n      <td>NOR</td>\n      <td>DNK</td>\n      <td>DNK</td>\n      <td>DNK</td>\n      <td>IRN</td>\n    </tr>\n    <tr>\n      <th>country</th>\n      <td>Norway</td>\n      <td>Denmark</td>\n      <td>Denmark</td>\n      <td>Denmark</td>\n      <td>Iran  (Islamic Republic of)</td>\n    </tr>\n    <tr>\n      <th>lastcheckdate</th>\n      <td>NaT</td>\n      <td>NaT</td>\n      <td>NaT</td>\n      <td>NaT</td>\n      <td>NaT</td>\n    </tr>\n    <tr>\n      <th>remarks</th>\n      <td>NaN</td>\n      <td>NaN</td>\n      <td>NaN</td>\n      <td>NaN</td>\n      <td>NaN</td>\n    </tr>\n    <tr>\n      <th>url_lca</th>\n      <td>NaN</td>\n      <td>NaN</td>\n      <td>NaN</td>\n      <td>NaN</td>\n      <td>NaN</td>\n    </tr>\n    <tr>\n      <th>source</th>\n      <td>NaN</td>\n      <td>NaN</td>\n      <td>NaN</td>\n      <td>NaN</td>\n      <td>NaN</td>\n    </tr>\n    <tr>\n      <th>createdate</th>\n      <td>2021-02-24 11:54:56.019000</td>\n      <td>2021-02-24 11:54:14.295000</td>\n      <td>2021-02-24 11:52:47.493000</td>\n      <td>2021-02-24 11:54:14.295000</td>\n      <td>2021-02-24 11:54:14.295000</td>\n    </tr>\n    <tr>\n      <th>updatedate</th>\n      <td>2021-02-24 11:54:56.019000</td>\n      <td>2021-02-24 11:54:14.295000</td>\n      <td>2021-02-24 11:52:47.493000</td>\n      <td>2021-02-24 11:54:14.295000</td>\n      <td>2021-02-24 11:54:14.295000</td>\n    </tr>\n    <tr>\n      <th>geonameid</th>\n      <td>3163392</td>\n      <td>2625070</td>\n      <td>2624886</td>\n      <td>2624652</td>\n      <td>145459</td>\n    </tr>\n    <tr>\n      <th>gdb_geomattr_data</th>\n      <td>NaN</td>\n      <td>NaN</td>\n      <td>NaN</td>\n      <td>NaN</td>\n      <td>NaN</td>\n    </tr>\n    <tr>\n      <th>shape</th>\n      <td>POINT (6.152741796999976 62.47298997399997)</td>\n      <td>POINT (9.426701115000014 55.03933386800003)</td>\n      <td>POINT (9.93830628500001 57.04611372199997)</td>\n      <td>POINT (10.21666555600001 56.15000027799999)</td>\n      <td>POINT (48.28239780199999 30.330114913999978)</td>\n    </tr>\n    <tr>\n      <th>Unnamed: 25</th>\n      <td>NaN</td>\n      <td>NaN</td>\n      <td>NaN</td>\n      <td>NaN</td>\n      <td>NaN</td>\n    </tr>\n    <tr>\n      <th>Unnamed: 26</th>\n      <td>NaN</td>\n      <td>NaN</td>\n      <td>NaN</td>\n      <td>NaN</td>\n      <td>NaN</td>\n    </tr>\n    <tr>\n      <th>Unnamed: 27</th>\n      <td>NaN</td>\n      <td>NaN</td>\n      <td>NaN</td>\n      <td>NaN</td>\n      <td>NaN</td>\n    </tr>\n    <tr>\n      <th>Unnamed: 28</th>\n      <td>NaN</td>\n      <td>NaN</td>\n      <td>NaN</td>\n      <td>NaN</td>\n      <td>NaN</td>\n    </tr>\n    <tr>\n      <th>Unnamed: 29</th>\n      <td>NaN</td>\n      <td>NaN</td>\n      <td>NaN</td>\n      <td>NaN</td>\n      <td>NaN</td>\n    </tr>\n    <tr>\n      <th>Unnamed: 30</th>\n      <td>NaN</td>\n      <td>NaN</td>\n      <td>NaN</td>\n      <td>NaN</td>\n      <td>NaN</td>\n    </tr>\n    <tr>\n      <th>Unnamed: 31</th>\n      <td>NaN</td>\n      <td>NaN</td>\n      <td>NaN</td>\n      <td>NaN</td>\n      <td>NaN</td>\n    </tr>\n    <tr>\n      <th>Unnamed: 32</th>\n      <td>NaN</td>\n      <td>NaN</td>\n      <td>NaN</td>\n      <td>NaN</td>\n      <td>NaN</td>\n    </tr>\n    <tr>\n      <th>Duplicates</th>\n      <td>False</td>\n      <td>False</td>\n      <td>False</td>\n      <td>False</td>\n      <td>False</td>\n    </tr>\n  </tbody>\n</table>\n</div>"
     },
     "metadata": {},
     "execution_count": 3
    }
   ],
   "source": [
    "ports_id = \"./Resources/world_port_names.xlsx\"\n",
    "port_df = pd.read_excel(ports_id)\n",
    "port_df.head().T\n"
   ]
  },
  {
   "cell_type": "markdown",
   "metadata": {},
   "source": [
    "### Transforming data_df "
   ]
  },
  {
   "cell_type": "code",
   "execution_count": 4,
   "metadata": {
    "scrolled": false
   },
   "outputs": [
    {
     "output_type": "execute_result",
     "data": {
      "text/plain": [
       "                                                                        0  \\\n",
       "hts_code                                                       2823001000   \n",
       "hts_code_description    DIÓXIDO DE TITANIUM (O ANHIDRIDO OXIDO TITANIC...   \n",
       "custom                                                MARITIMA DEL CALLAO   \n",
       "dua                                                            059075 | 3   \n",
       "date                                                  2021-02-13 00:00:00   \n",
       "eta                                                   2021-02-16 00:00:00   \n",
       "bl                                                           118-2021-299   \n",
       "tax_id                                                        20600346149   \n",
       "name                    ANYPSA CORPORATION SOCIEDAD ANONIMA - ANYPSA C...   \n",
       "exporter                                CHEMOURS INTERNATIONAL OPERATIONS   \n",
       "gross_kg                                                          20692.0   \n",
       "net_kg                                                              20000   \n",
       "usd_fob_total                                                     59354.0   \n",
       "usd_freight_total                                                   646.0   \n",
       "usd_cfr_total                                                     60000.0   \n",
       "usd_cif total                                                     60052.8   \n",
       "usd_fob_unit                                                        2.967   \n",
       "usd_cif _unit                                                       3.002   \n",
       "country_of_origin                                                  MEXICO   \n",
       "acquisition_country                                           SWITZERLAND   \n",
       "loading-port                                                    CARTAGENA   \n",
       "via                                                              MARÍTIMO   \n",
       "transport_agent                        TRAMARSA - TRABAJOS MARITIMOS S.A.   \n",
       "custom_agent                  ADUANERA CAPRICORNIO S.A. AGENTES DE ADUANA   \n",
       "commercial_description  DIOXIDO DE TITANIO  TI-PURE S/M S/M DIOXIDO DE...   \n",
       "description1                          DIOXIDO DE TITANIO  TI-PURE S/M S/M   \n",
       "description2                                           DIOXIDO DE TITANIO   \n",
       "description3                                               USO INDUSTRIAL   \n",
       "description4                 TI-PURE TITANIUM DIOXIDE R900 EX55 25 KG BAG   \n",
       "description5                         TI-PURE R900 / 800 BAGS DE 25 KG C/U   \n",
       "\n",
       "                                                                        1  \\\n",
       "hts_code                                                       2823001000   \n",
       "hts_code_description    DIÓXIDO DE TITANIUM (O ANHIDRIDO OXIDO TITANIC...   \n",
       "custom                                                MARITIMA DEL CALLAO   \n",
       "dua                                                            004941 | 1   \n",
       "date                                                  2021-01-07 00:00:00   \n",
       "eta                                                   2021-01-09 00:00:00   \n",
       "bl                                                          118-2020-2907   \n",
       "tax_id                                                        20600346149   \n",
       "name                    ANYPSA CORPORATION SOCIEDAD ANONIMA - ANYPSA C...   \n",
       "exporter                                      THE CHEMOURS COMPANY FC,LLC   \n",
       "gross_kg                                                          20878.0   \n",
       "net_kg                                                              20000   \n",
       "usd_fob_total                                                     57148.0   \n",
       "usd_freight_total                                                   852.0   \n",
       "usd_cfr_total                                                     58000.0   \n",
       "usd_cif total                                                    58051.04   \n",
       "usd_fob_unit                                                        2.857   \n",
       "usd_cif _unit                                                       2.902   \n",
       "country_of_origin                                           UNITED STATES   \n",
       "acquisition_country                                         UNITED STATES   \n",
       "loading-port                                NEW ORLEANS INTERNATIONAL APT   \n",
       "via                                                              MARÍTIMO   \n",
       "transport_agent                                           COSCO PERU S.A.   \n",
       "custom_agent                  ADUANERA CAPRICORNIO S.A. AGENTES DE ADUANA   \n",
       "commercial_description  DIOXIDO DE TITANIO S/M S/M DIOXIDO DE TITANIO ...   \n",
       "description1                                   DIOXIDO DE TITANIO S/M S/M   \n",
       "description2                                           DIOXIDO DE TITANIO   \n",
       "description3                                               USO INDUSTRIAL   \n",
       "description4            LOTE: 930324/0008-0009, 930326/0017-0034 - PRO...   \n",
       "description5              TI-PURE TITANIUM DIOXIDE R900-38 EX55 55.066 LB   \n",
       "\n",
       "                                                                        2  \\\n",
       "hts_code                                                       2823001000   \n",
       "hts_code_description    DIÓXIDO DE TITANIUM (O ANHIDRIDO OXIDO TITANIC...   \n",
       "custom                                                MARITIMA DEL CALLAO   \n",
       "dua                                                            042889 | 3   \n",
       "date                                                  2021-02-02 00:00:00   \n",
       "eta                                                   2021-02-06 00:00:00   \n",
       "bl                                                           118-2021-191   \n",
       "tax_id                                                        20600346149   \n",
       "name                    ANYPSA CORPORATION SOCIEDAD ANONIMA - ANYPSA C...   \n",
       "exporter                                CHEMOURS INTERNATIONAL OPERATIONS   \n",
       "gross_kg                                                          20641.0   \n",
       "net_kg                                                              20000   \n",
       "usd_fob_total                                                     59354.0   \n",
       "usd_freight_total                                                   646.0   \n",
       "usd_cfr_total                                                     60000.0   \n",
       "usd_cif total                                                     60052.8   \n",
       "usd_fob_unit                                                        2.967   \n",
       "usd_cif _unit                                                       3.002   \n",
       "country_of_origin                                                  MEXICO   \n",
       "acquisition_country                                           SWITZERLAND   \n",
       "loading-port                                                     ALTAMIRA   \n",
       "via                                                              MARÍTIMO   \n",
       "transport_agent                        TRAMARSA - TRABAJOS MARITIMOS S.A.   \n",
       "custom_agent                  ADUANERA CAPRICORNIO S.A. AGENTES DE ADUANA   \n",
       "commercial_description  DIOXIDO DE TITANIO TI PURE S/M S/M DIOXIDO DE ...   \n",
       "description1                           DIOXIDO DE TITANIO TI PURE S/M S/M   \n",
       "description2                                           DIOXIDO DE TITANIO   \n",
       "description3                                               USO INDUSTRIAL   \n",
       "description4                                                     D0091882   \n",
       "description5                           TI-PURE TITANIUM DIOXIDE R900 EX55   \n",
       "\n",
       "                                                                        3  \\\n",
       "hts_code                                                       2823001000   \n",
       "hts_code_description    DIÓXIDO DE TITANIUM (O ANHIDRIDO OXIDO TITANIC...   \n",
       "custom                                                MARITIMA DEL CALLAO   \n",
       "dua                                                            059075 | 4   \n",
       "date                                                  2021-02-13 00:00:00   \n",
       "eta                                                   2021-02-16 00:00:00   \n",
       "bl                                                           118-2021-299   \n",
       "tax_id                                                        20600346149   \n",
       "name                    ANYPSA CORPORATION SOCIEDAD ANONIMA - ANYPSA C...   \n",
       "exporter                                CHEMOURS INTERNATIONAL OPERATIONS   \n",
       "gross_kg                                                          20692.0   \n",
       "net_kg                                                              20000   \n",
       "usd_fob_total                                                     59354.0   \n",
       "usd_freight_total                                                   646.0   \n",
       "usd_cfr_total                                                     60000.0   \n",
       "usd_cif total                                                     60052.8   \n",
       "usd_fob_unit                                                        2.967   \n",
       "usd_cif _unit                                                       3.002   \n",
       "country_of_origin                                                  MEXICO   \n",
       "acquisition_country                                           SWITZERLAND   \n",
       "loading-port                                                    CARTAGENA   \n",
       "via                                                              MARÍTIMO   \n",
       "transport_agent                        TRAMARSA - TRABAJOS MARITIMOS S.A.   \n",
       "custom_agent                  ADUANERA CAPRICORNIO S.A. AGENTES DE ADUANA   \n",
       "commercial_description  DIOXIDO DE TITANIO  TI-PURE S/M S/M DIOXIDO DE...   \n",
       "description1                          DIOXIDO DE TITANIO  TI-PURE S/M S/M   \n",
       "description2                                           DIOXIDO DE TITANIO   \n",
       "description3                                               USO INDUSTRIAL   \n",
       "description4                 TI-PURE TITANIUM DIOXIDE R900 EX55 25 KG BAG   \n",
       "description5                         TI-PURE R900 / 800 BAGS DE 25 KG C/U   \n",
       "\n",
       "                                                                        4  \n",
       "hts_code                                                       2823001000  \n",
       "hts_code_description    DIÓXIDO DE TITANIUM (O ANHIDRIDO OXIDO TITANIC...  \n",
       "custom                                                MARITIMA DEL CALLAO  \n",
       "dua                                                            004941 | 5  \n",
       "date                                                  2021-01-07 00:00:00  \n",
       "eta                                                   2021-01-09 00:00:00  \n",
       "bl                                                          118-2020-2907  \n",
       "tax_id                                                        20600346149  \n",
       "name                    ANYPSA CORPORATION SOCIEDAD ANONIMA - ANYPSA C...  \n",
       "exporter                                      THE CHEMOURS COMPANY FC,LLC  \n",
       "gross_kg                                                          20878.0  \n",
       "net_kg                                                              20000  \n",
       "usd_fob_total                                                     57148.0  \n",
       "usd_freight_total                                                   852.0  \n",
       "usd_cfr_total                                                     58000.0  \n",
       "usd_cif total                                                    58051.04  \n",
       "usd_fob_unit                                                        2.857  \n",
       "usd_cif _unit                                                       2.902  \n",
       "country_of_origin                                           UNITED STATES  \n",
       "acquisition_country                                         UNITED STATES  \n",
       "loading-port                                NEW ORLEANS INTERNATIONAL APT  \n",
       "via                                                              MARÍTIMO  \n",
       "transport_agent                                           COSCO PERU S.A.  \n",
       "custom_agent                  ADUANERA CAPRICORNIO S.A. AGENTES DE ADUANA  \n",
       "commercial_description  DIOXIDO DE TITANIO S/M S/M DIOXIDO DE TITANIO ...  \n",
       "description1                                   DIOXIDO DE TITANIO S/M S/M  \n",
       "description2                                           DIOXIDO DE TITANIO  \n",
       "description3                                               USO INDUSTRIAL  \n",
       "description4            LOTE: 930329/0034-0049, 930329/0051-0053, 9303...  \n",
       "description5              TI-PURE TITANIUM DIOXIDE R900-38 EX55 55.066 LB  "
      ],
      "text/html": "<div>\n<style scoped>\n    .dataframe tbody tr th:only-of-type {\n        vertical-align: middle;\n    }\n\n    .dataframe tbody tr th {\n        vertical-align: top;\n    }\n\n    .dataframe thead th {\n        text-align: right;\n    }\n</style>\n<table border=\"1\" class=\"dataframe\">\n  <thead>\n    <tr style=\"text-align: right;\">\n      <th></th>\n      <th>0</th>\n      <th>1</th>\n      <th>2</th>\n      <th>3</th>\n      <th>4</th>\n    </tr>\n  </thead>\n  <tbody>\n    <tr>\n      <th>hts_code</th>\n      <td>2823001000</td>\n      <td>2823001000</td>\n      <td>2823001000</td>\n      <td>2823001000</td>\n      <td>2823001000</td>\n    </tr>\n    <tr>\n      <th>hts_code_description</th>\n      <td>DIÓXIDO DE TITANIUM (O ANHIDRIDO OXIDO TITANIC...</td>\n      <td>DIÓXIDO DE TITANIUM (O ANHIDRIDO OXIDO TITANIC...</td>\n      <td>DIÓXIDO DE TITANIUM (O ANHIDRIDO OXIDO TITANIC...</td>\n      <td>DIÓXIDO DE TITANIUM (O ANHIDRIDO OXIDO TITANIC...</td>\n      <td>DIÓXIDO DE TITANIUM (O ANHIDRIDO OXIDO TITANIC...</td>\n    </tr>\n    <tr>\n      <th>custom</th>\n      <td>MARITIMA DEL CALLAO</td>\n      <td>MARITIMA DEL CALLAO</td>\n      <td>MARITIMA DEL CALLAO</td>\n      <td>MARITIMA DEL CALLAO</td>\n      <td>MARITIMA DEL CALLAO</td>\n    </tr>\n    <tr>\n      <th>dua</th>\n      <td>059075 | 3</td>\n      <td>004941 | 1</td>\n      <td>042889 | 3</td>\n      <td>059075 | 4</td>\n      <td>004941 | 5</td>\n    </tr>\n    <tr>\n      <th>date</th>\n      <td>2021-02-13 00:00:00</td>\n      <td>2021-01-07 00:00:00</td>\n      <td>2021-02-02 00:00:00</td>\n      <td>2021-02-13 00:00:00</td>\n      <td>2021-01-07 00:00:00</td>\n    </tr>\n    <tr>\n      <th>eta</th>\n      <td>2021-02-16 00:00:00</td>\n      <td>2021-01-09 00:00:00</td>\n      <td>2021-02-06 00:00:00</td>\n      <td>2021-02-16 00:00:00</td>\n      <td>2021-01-09 00:00:00</td>\n    </tr>\n    <tr>\n      <th>bl</th>\n      <td>118-2021-299</td>\n      <td>118-2020-2907</td>\n      <td>118-2021-191</td>\n      <td>118-2021-299</td>\n      <td>118-2020-2907</td>\n    </tr>\n    <tr>\n      <th>tax_id</th>\n      <td>20600346149</td>\n      <td>20600346149</td>\n      <td>20600346149</td>\n      <td>20600346149</td>\n      <td>20600346149</td>\n    </tr>\n    <tr>\n      <th>name</th>\n      <td>ANYPSA CORPORATION SOCIEDAD ANONIMA - ANYPSA C...</td>\n      <td>ANYPSA CORPORATION SOCIEDAD ANONIMA - ANYPSA C...</td>\n      <td>ANYPSA CORPORATION SOCIEDAD ANONIMA - ANYPSA C...</td>\n      <td>ANYPSA CORPORATION SOCIEDAD ANONIMA - ANYPSA C...</td>\n      <td>ANYPSA CORPORATION SOCIEDAD ANONIMA - ANYPSA C...</td>\n    </tr>\n    <tr>\n      <th>exporter</th>\n      <td>CHEMOURS INTERNATIONAL OPERATIONS</td>\n      <td>THE CHEMOURS COMPANY FC,LLC</td>\n      <td>CHEMOURS INTERNATIONAL OPERATIONS</td>\n      <td>CHEMOURS INTERNATIONAL OPERATIONS</td>\n      <td>THE CHEMOURS COMPANY FC,LLC</td>\n    </tr>\n    <tr>\n      <th>gross_kg</th>\n      <td>20692.0</td>\n      <td>20878.0</td>\n      <td>20641.0</td>\n      <td>20692.0</td>\n      <td>20878.0</td>\n    </tr>\n    <tr>\n      <th>net_kg</th>\n      <td>20000</td>\n      <td>20000</td>\n      <td>20000</td>\n      <td>20000</td>\n      <td>20000</td>\n    </tr>\n    <tr>\n      <th>usd_fob_total</th>\n      <td>59354.0</td>\n      <td>57148.0</td>\n      <td>59354.0</td>\n      <td>59354.0</td>\n      <td>57148.0</td>\n    </tr>\n    <tr>\n      <th>usd_freight_total</th>\n      <td>646.0</td>\n      <td>852.0</td>\n      <td>646.0</td>\n      <td>646.0</td>\n      <td>852.0</td>\n    </tr>\n    <tr>\n      <th>usd_cfr_total</th>\n      <td>60000.0</td>\n      <td>58000.0</td>\n      <td>60000.0</td>\n      <td>60000.0</td>\n      <td>58000.0</td>\n    </tr>\n    <tr>\n      <th>usd_cif total</th>\n      <td>60052.8</td>\n      <td>58051.04</td>\n      <td>60052.8</td>\n      <td>60052.8</td>\n      <td>58051.04</td>\n    </tr>\n    <tr>\n      <th>usd_fob_unit</th>\n      <td>2.967</td>\n      <td>2.857</td>\n      <td>2.967</td>\n      <td>2.967</td>\n      <td>2.857</td>\n    </tr>\n    <tr>\n      <th>usd_cif _unit</th>\n      <td>3.002</td>\n      <td>2.902</td>\n      <td>3.002</td>\n      <td>3.002</td>\n      <td>2.902</td>\n    </tr>\n    <tr>\n      <th>country_of_origin</th>\n      <td>MEXICO</td>\n      <td>UNITED STATES</td>\n      <td>MEXICO</td>\n      <td>MEXICO</td>\n      <td>UNITED STATES</td>\n    </tr>\n    <tr>\n      <th>acquisition_country</th>\n      <td>SWITZERLAND</td>\n      <td>UNITED STATES</td>\n      <td>SWITZERLAND</td>\n      <td>SWITZERLAND</td>\n      <td>UNITED STATES</td>\n    </tr>\n    <tr>\n      <th>loading-port</th>\n      <td>CARTAGENA</td>\n      <td>NEW ORLEANS INTERNATIONAL APT</td>\n      <td>ALTAMIRA</td>\n      <td>CARTAGENA</td>\n      <td>NEW ORLEANS INTERNATIONAL APT</td>\n    </tr>\n    <tr>\n      <th>via</th>\n      <td>MARÍTIMO</td>\n      <td>MARÍTIMO</td>\n      <td>MARÍTIMO</td>\n      <td>MARÍTIMO</td>\n      <td>MARÍTIMO</td>\n    </tr>\n    <tr>\n      <th>transport_agent</th>\n      <td>TRAMARSA - TRABAJOS MARITIMOS S.A.</td>\n      <td>COSCO PERU S.A.</td>\n      <td>TRAMARSA - TRABAJOS MARITIMOS S.A.</td>\n      <td>TRAMARSA - TRABAJOS MARITIMOS S.A.</td>\n      <td>COSCO PERU S.A.</td>\n    </tr>\n    <tr>\n      <th>custom_agent</th>\n      <td>ADUANERA CAPRICORNIO S.A. AGENTES DE ADUANA</td>\n      <td>ADUANERA CAPRICORNIO S.A. AGENTES DE ADUANA</td>\n      <td>ADUANERA CAPRICORNIO S.A. AGENTES DE ADUANA</td>\n      <td>ADUANERA CAPRICORNIO S.A. AGENTES DE ADUANA</td>\n      <td>ADUANERA CAPRICORNIO S.A. AGENTES DE ADUANA</td>\n    </tr>\n    <tr>\n      <th>commercial_description</th>\n      <td>DIOXIDO DE TITANIO  TI-PURE S/M S/M DIOXIDO DE...</td>\n      <td>DIOXIDO DE TITANIO S/M S/M DIOXIDO DE TITANIO ...</td>\n      <td>DIOXIDO DE TITANIO TI PURE S/M S/M DIOXIDO DE ...</td>\n      <td>DIOXIDO DE TITANIO  TI-PURE S/M S/M DIOXIDO DE...</td>\n      <td>DIOXIDO DE TITANIO S/M S/M DIOXIDO DE TITANIO ...</td>\n    </tr>\n    <tr>\n      <th>description1</th>\n      <td>DIOXIDO DE TITANIO  TI-PURE S/M S/M</td>\n      <td>DIOXIDO DE TITANIO S/M S/M</td>\n      <td>DIOXIDO DE TITANIO TI PURE S/M S/M</td>\n      <td>DIOXIDO DE TITANIO  TI-PURE S/M S/M</td>\n      <td>DIOXIDO DE TITANIO S/M S/M</td>\n    </tr>\n    <tr>\n      <th>description2</th>\n      <td>DIOXIDO DE TITANIO</td>\n      <td>DIOXIDO DE TITANIO</td>\n      <td>DIOXIDO DE TITANIO</td>\n      <td>DIOXIDO DE TITANIO</td>\n      <td>DIOXIDO DE TITANIO</td>\n    </tr>\n    <tr>\n      <th>description3</th>\n      <td>USO INDUSTRIAL</td>\n      <td>USO INDUSTRIAL</td>\n      <td>USO INDUSTRIAL</td>\n      <td>USO INDUSTRIAL</td>\n      <td>USO INDUSTRIAL</td>\n    </tr>\n    <tr>\n      <th>description4</th>\n      <td>TI-PURE TITANIUM DIOXIDE R900 EX55 25 KG BAG</td>\n      <td>LOTE: 930324/0008-0009, 930326/0017-0034 - PRO...</td>\n      <td>D0091882</td>\n      <td>TI-PURE TITANIUM DIOXIDE R900 EX55 25 KG BAG</td>\n      <td>LOTE: 930329/0034-0049, 930329/0051-0053, 9303...</td>\n    </tr>\n    <tr>\n      <th>description5</th>\n      <td>TI-PURE R900 / 800 BAGS DE 25 KG C/U</td>\n      <td>TI-PURE TITANIUM DIOXIDE R900-38 EX55 55.066 LB</td>\n      <td>TI-PURE TITANIUM DIOXIDE R900 EX55</td>\n      <td>TI-PURE R900 / 800 BAGS DE 25 KG C/U</td>\n      <td>TI-PURE TITANIUM DIOXIDE R900-38 EX55 55.066 LB</td>\n    </tr>\n  </tbody>\n</table>\n</div>"
     },
     "metadata": {},
     "execution_count": 4
    }
   ],
   "source": [
    "# Creating a filtered dataframe from specific columns\n",
    "\n",
    "data_cols = [\"HTS Code\", \"HTS Code Description\", \"Custom\" ,\"DUA\", \"Date\", \"ETA\", \"B/L\", \"Tax ID\", \"Importer\",\n",
    "             \"Shipper / Exporter\", \"Gross kg\", \"Net kg\", \"U$ FOB Tot\", \"U$ Freight Tot\", \"U$ CFR Tot\", \"U$ CIF Tot\",\n",
    "             \"U$ FOB Unit 1\", \"U$ CIF Unit 1\", \"Country of Origin\", \"Acquisition Country\",\"Loading Port\", \"Via\", \n",
    "             \"Transport Agent\", \"Custom Agent\", \"Commercial Description\", \"Description1\", \"Description2\", \n",
    "             \"Description3\", \"Description4\", \"Description5\"]\n",
    "\n",
    "data_transformed = data_df[data_cols].copy()\n",
    "\n",
    "# Renaming the column headers\n",
    "\n",
    "data_transformed = data_transformed.rename(columns={\"HTS Code\" : \"hts_code\", \n",
    "                                                    \"HTS Code Description\": \"hts_code_description\",\n",
    "                                                    \"Custom\" : \"custom\" , \"DUA\" : \"dua\", \"Date\" : \"date\",\n",
    "                                                    \"ETA\" : \"eta\", \"B/L\" : \"bl\", \"Tax ID\" : \"tax_id\", \n",
    "                                                    \"Importer\" : \"name\", \"Shipper / Exporter\" : \"exporter\", \n",
    "                                                    \"Gross kg\" : \"gross_kg\", \"Net kg\" : \"net_kg\", \n",
    "                                                    \"U$ FOB Tot\" : \"usd_fob_total\", \"U$ Freight Tot\" : \"usd_freight_total\", \n",
    "                                                    \"U$ CFR Tot\": \"usd_cfr_total\", \"U$ CIF Tot\" : \"usd_cif total\",\n",
    "                                                    \"U$ FOB Unit 1\": \"usd_fob_unit\", \"U$ CIF Unit 1\" : \"usd_cif _unit\", \n",
    "                                                    \"Country of Origin\" : \"country_of_origin\", \n",
    "                                                    \"Acquisition Country\" : \"acquisition_country\",\n",
    "                                                    \"Loading Port\" : \"loading-port\", \"Via\" : \"via\",\n",
    "                                                    \"Transport Agent\" : \"transport_agent\", \n",
    "                                                    \"Custom Agent\" : \"custom_agent\", \n",
    "                                                    \"Commercial Description\" : \"commercial_description\",\n",
    "                                                    \"Description1\" : \"description1\", \"Description2\" : \"description2\",\n",
    "                                                    \"Description3\" : \"description3\", \"Description4\" : \"description4\", \n",
    "                                                    \"Description5\" : \"description5\"})\n",
    "\n",
    "# Setting the Index\n",
    "data_transformed.set_index\n",
    "\n",
    "# Reviewing\n",
    "data_transformed.head().T"
   ]
  },
  {
   "cell_type": "code",
   "execution_count": 5,
   "metadata": {},
   "outputs": [
    {
     "output_type": "stream",
     "name": "stdout",
     "text": [
      "<class 'pandas.core.frame.DataFrame'>\nRangeIndex: 216 entries, 0 to 215\nData columns (total 30 columns):\n #   Column                  Non-Null Count  Dtype         \n---  ------                  --------------  -----         \n 0   hts_code                216 non-null    int64         \n 1   hts_code_description    216 non-null    object        \n 2   custom                  216 non-null    object        \n 3   dua                     216 non-null    object        \n 4   date                    216 non-null    datetime64[ns]\n 5   eta                     204 non-null    datetime64[ns]\n 6   bl                      216 non-null    object        \n 7   tax_id                  216 non-null    int64         \n 8   name                    216 non-null    object        \n 9   exporter                207 non-null    object        \n 10  gross_kg                216 non-null    float64       \n 11  net_kg                  216 non-null    int64         \n 12  usd_fob_total           216 non-null    float64       \n 13  usd_freight_total       216 non-null    float64       \n 14  usd_cfr_total           216 non-null    float64       \n 15  usd_cif total           216 non-null    float64       \n 16  usd_fob_unit            216 non-null    float64       \n 17  usd_cif _unit           216 non-null    float64       \n 18  country_of_origin       216 non-null    object        \n 19  acquisition_country     216 non-null    object        \n 20  loading-port            216 non-null    object        \n 21  via                     216 non-null    object        \n 22  transport_agent         210 non-null    object        \n 23  custom_agent            216 non-null    object        \n 24  commercial_description  216 non-null    object        \n 25  description1            216 non-null    object        \n 26  description2            216 non-null    object        \n 27  description3            216 non-null    object        \n 28  description4            216 non-null    object        \n 29  description5            216 non-null    object        \ndtypes: datetime64[ns](2), float64(7), int64(3), object(18)\nmemory usage: 50.8+ KB\n"
     ]
    }
   ],
   "source": [
    "data_transformed.info()"
   ]
  },
  {
   "cell_type": "markdown",
   "metadata": {},
   "source": [
    "### Transforming port_df file"
   ]
  },
  {
   "cell_type": "code",
   "execution_count": 6,
   "metadata": {},
   "outputs": [
    {
     "output_type": "execute_result",
     "data": {
      "text/plain": [
       "     port_name  latitude  longitude                           country\n",
       "0     A\n",
       "lesund  62.47299    6.15274                            Norway\n",
       "1     Aabenraa  55.03933    9.42670                           Denmark\n",
       "2      Aalborg  57.04611    9.93831                           Denmark\n",
       "3       Aarhus  56.15000   10.21667                           Denmark\n",
       "4       Abadan  30.33011   48.28240       Iran  (Islamic Republic of)\n",
       "...        ...       ...        ...                               ...\n",
       "2963       NaN  -5.85709   17.58290  Democratic Republic of the Congo\n",
       "2964       NaN  18.47391  -73.13152                             Haiti\n",
       "2965       NaN  65.02647  -18.29607                           Iceland\n",
       "2966       NaN  65.83568  -18.75641                           Iceland\n",
       "2967       NaN  64.24769  -18.81243                           Iceland\n",
       "\n",
       "[2968 rows x 4 columns]"
      ],
      "text/html": "<div>\n<style scoped>\n    .dataframe tbody tr th:only-of-type {\n        vertical-align: middle;\n    }\n\n    .dataframe tbody tr th {\n        vertical-align: top;\n    }\n\n    .dataframe thead th {\n        text-align: right;\n    }\n</style>\n<table border=\"1\" class=\"dataframe\">\n  <thead>\n    <tr style=\"text-align: right;\">\n      <th></th>\n      <th>port_name</th>\n      <th>latitude</th>\n      <th>longitude</th>\n      <th>country</th>\n    </tr>\n  </thead>\n  <tbody>\n    <tr>\n      <th>0</th>\n      <td>Alesund</td>\n      <td>62.47299</td>\n      <td>6.15274</td>\n      <td>Norway</td>\n    </tr>\n    <tr>\n      <th>1</th>\n      <td>Aabenraa</td>\n      <td>55.03933</td>\n      <td>9.42670</td>\n      <td>Denmark</td>\n    </tr>\n    <tr>\n      <th>2</th>\n      <td>Aalborg</td>\n      <td>57.04611</td>\n      <td>9.93831</td>\n      <td>Denmark</td>\n    </tr>\n    <tr>\n      <th>3</th>\n      <td>Aarhus</td>\n      <td>56.15000</td>\n      <td>10.21667</td>\n      <td>Denmark</td>\n    </tr>\n    <tr>\n      <th>4</th>\n      <td>Abadan</td>\n      <td>30.33011</td>\n      <td>48.28240</td>\n      <td>Iran  (Islamic Republic of)</td>\n    </tr>\n    <tr>\n      <th>...</th>\n      <td>...</td>\n      <td>...</td>\n      <td>...</td>\n      <td>...</td>\n    </tr>\n    <tr>\n      <th>2963</th>\n      <td>NaN</td>\n      <td>-5.85709</td>\n      <td>17.58290</td>\n      <td>Democratic Republic of the Congo</td>\n    </tr>\n    <tr>\n      <th>2964</th>\n      <td>NaN</td>\n      <td>18.47391</td>\n      <td>-73.13152</td>\n      <td>Haiti</td>\n    </tr>\n    <tr>\n      <th>2965</th>\n      <td>NaN</td>\n      <td>65.02647</td>\n      <td>-18.29607</td>\n      <td>Iceland</td>\n    </tr>\n    <tr>\n      <th>2966</th>\n      <td>NaN</td>\n      <td>65.83568</td>\n      <td>-18.75641</td>\n      <td>Iceland</td>\n    </tr>\n    <tr>\n      <th>2967</th>\n      <td>NaN</td>\n      <td>64.24769</td>\n      <td>-18.81243</td>\n      <td>Iceland</td>\n    </tr>\n  </tbody>\n</table>\n<p>2968 rows × 4 columns</p>\n</div>"
     },
     "metadata": {},
     "execution_count": 6
    }
   ],
   "source": [
    "# Creating a filtered dataframe from specific columns\n",
    "\n",
    "port_cols = [\"port_name\", \"latitude\", \"longitude\", \"country\"]\n",
    "\n",
    "ports_transformed = port_df[port_cols].copy()\n",
    "\n",
    "# Setting the Index\n",
    "\n",
    "ports_transformed.set_index\n",
    "\n",
    "# Reviewing\n",
    "\n",
    "ports_transformed.head()\n",
    "# ports_transformed.reset_index(inplace = True)\n",
    "# ports_transformed.columns[0] = \"id\"\n",
    "# ports_transformed[\"id\"] = ports_transformed[\"id\"] + 1\n",
    "\n",
    "# To be able to apply an ID to the port \n",
    "\n",
    "# ports_transformed.insert(0 , \"id\", range(1, 1 + len(ports_transformed)))\n",
    "ports_transformed\n"
   ]
  },
  {
   "cell_type": "markdown",
   "metadata": {},
   "source": [
    "## Create dataframes for each table\n"
   ]
  },
  {
   "cell_type": "code",
   "execution_count": 7,
   "metadata": {},
   "outputs": [
    {
     "output_type": "stream",
     "name": "stdout",
     "text": [
      "<class 'pandas.core.frame.DataFrame'>\nRangeIndex: 216 entries, 0 to 215\nData columns (total 30 columns):\n #   Column                  Non-Null Count  Dtype         \n---  ------                  --------------  -----         \n 0   hts_code                216 non-null    int64         \n 1   hts_code_description    216 non-null    object        \n 2   custom                  216 non-null    object        \n 3   dua                     216 non-null    object        \n 4   date                    216 non-null    datetime64[ns]\n 5   eta                     204 non-null    datetime64[ns]\n 6   bl                      216 non-null    object        \n 7   tax_id                  216 non-null    int64         \n 8   name                    216 non-null    object        \n 9   exporter                207 non-null    object        \n 10  gross_kg                216 non-null    float64       \n 11  net_kg                  216 non-null    int64         \n 12  usd_fob_total           216 non-null    float64       \n 13  usd_freight_total       216 non-null    float64       \n 14  usd_cfr_total           216 non-null    float64       \n 15  usd_cif total           216 non-null    float64       \n 16  usd_fob_unit            216 non-null    float64       \n 17  usd_cif _unit           216 non-null    float64       \n 18  country_of_origin       216 non-null    object        \n 19  acquisition_country     216 non-null    object        \n 20  loading-port            216 non-null    object        \n 21  via                     216 non-null    object        \n 22  transport_agent         210 non-null    object        \n 23  custom_agent            216 non-null    object        \n 24  commercial_description  216 non-null    object        \n 25  description1            216 non-null    object        \n 26  description2            216 non-null    object        \n 27  description3            216 non-null    object        \n 28  description4            216 non-null    object        \n 29  description5            216 non-null    object        \ndtypes: datetime64[ns](2), float64(7), int64(3), object(18)\nmemory usage: 50.8+ KB\n"
     ]
    }
   ],
   "source": [
    "data_transformed.info()"
   ]
  },
  {
   "cell_type": "code",
   "execution_count": 8,
   "metadata": {},
   "outputs": [],
   "source": [
    "## Creating DataFrames for Tables\n",
    "\n",
    "df_transaction_table = pd.DataFrame([])\n",
    "df_importer_table = pd.DataFrame([])\n",
    "df_product_table = pd.DataFrame([])\n",
    "df_port_table = ports_transformed.copy()\n"
   ]
  },
  {
   "cell_type": "markdown",
   "metadata": {},
   "source": [
    "#### Transaction table"
   ]
  },
  {
   "cell_type": "code",
   "execution_count": 9,
   "metadata": {
    "scrolled": false
   },
   "outputs": [
    {
     "output_type": "stream",
     "name": "stdout",
     "text": [
      "<class 'pandas.core.frame.DataFrame'>\nInt64Index: 201 entries, 0 to 215\nData columns (total 21 columns):\n #   Column               Non-Null Count  Dtype         \n---  ------               --------------  -----         \n 0   dua                  201 non-null    object        \n 1   date                 201 non-null    datetime64[ns]\n 2   bl                   201 non-null    object        \n 3   country_of_origin    201 non-null    object        \n 4   acquisition_country  201 non-null    object        \n 5   loading_port         201 non-null    object        \n 6   via                  201 non-null    object        \n 7   transport_agent      201 non-null    object        \n 8   custom_agent         201 non-null    object        \n 9   custom               201 non-null    object        \n 10  gross_kg             201 non-null    float64       \n 11  net_kg               201 non-null    int64         \n 12  usd_fob_total        201 non-null    float64       \n 13  usd_freight_total    201 non-null    float64       \n 14  usd_cfr_total        201 non-null    float64       \n 15  usd_cif_total        201 non-null    float64       \n 16  usd_fob_unit         201 non-null    float64       \n 17  usd_cif_unit         201 non-null    float64       \n 18  exporter             201 non-null    object        \n 19  hts_code             201 non-null    int64         \n 20  importer_id          201 non-null    int64         \ndtypes: datetime64[ns](1), float64(7), int64(3), object(10)\nmemory usage: 34.5+ KB\n"
     ]
    }
   ],
   "source": [
    "## Creatting column for the Trasaction Table \n",
    "\n",
    "df_transaction_table[\"dua\"] = data_transformed[\"dua\"]\n",
    "df_transaction_table[\"date\"] = data_transformed[\"date\"]\n",
    "df_transaction_table[\"bl\"] = data_transformed[\"bl\"]\n",
    "df_transaction_table[\"country_of_origin\"] = data_transformed[\"country_of_origin\"]\n",
    "df_transaction_table[\"acquisition_country\"] = data_transformed[\"acquisition_country\"]\n",
    "df_transaction_table[\"loading_port\"] = data_transformed[\"loading-port\"]\n",
    "df_transaction_table[\"via\"] = data_transformed[\"via\"]\n",
    "df_transaction_table[\"transport_agent\"] = data_transformed[\"transport_agent\"]\n",
    "df_transaction_table[\"custom_agent\"] = data_transformed[\"custom_agent\"]\n",
    "df_transaction_table[\"custom\"] = data_transformed[\"custom\"]\n",
    "df_transaction_table[\"gross_kg\"] = data_transformed[\"gross_kg\"]\n",
    "df_transaction_table[\"net_kg\"] = data_transformed[\"net_kg\"]\n",
    "df_transaction_table[\"usd_fob_total\"] = data_transformed[\"usd_fob_total\"]\n",
    "df_transaction_table[\"usd_freight_total\"] = data_transformed[\"usd_freight_total\"]\n",
    "df_transaction_table[\"usd_cfr_total\"] = data_transformed[\"usd_cfr_total\"]\n",
    "df_transaction_table[\"usd_cif_total\"] = data_transformed[\"usd_cif total\"]\n",
    "df_transaction_table[\"usd_fob_unit\"] = data_transformed[\"usd_fob_unit\"]\n",
    "df_transaction_table[\"usd_cif_unit\"] = data_transformed[\"usd_cif _unit\"]\n",
    "df_transaction_table[\"exporter\"] = data_transformed[\"exporter\"]\n",
    "df_transaction_table[\"hts_code\"] = data_transformed[\"hts_code\"]\n",
    "df_transaction_table[\"importer_id\"] = data_transformed[\"tax_id\"]\n",
    "\n",
    "df_transaction_table.dropna(inplace = True)\n",
    "df_transaction_table.info()"
   ]
  },
  {
   "cell_type": "markdown",
   "metadata": {},
   "source": [
    "#### Product table"
   ]
  },
  {
   "cell_type": "code",
   "execution_count": 10,
   "metadata": {},
   "outputs": [
    {
     "output_type": "stream",
     "name": "stdout",
     "text": [
      "<class 'pandas.core.frame.DataFrame'>\nInt64Index: 5 entries, 0 to 215\nData columns (total 9 columns):\n #   Column                  Non-Null Count  Dtype \n---  ------                  --------------  ----- \n 0   hts_code                5 non-null      int64 \n 1   hts_code_description    5 non-null      object\n 2   commercial_description  5 non-null      object\n 3   description1            5 non-null      object\n 4   description2            5 non-null      object\n 5   description3            5 non-null      object\n 6   description4            5 non-null      object\n 7   description5            5 non-null      object\n 8   description             5 non-null      object\ndtypes: int64(1), object(8)\nmemory usage: 400.0+ bytes\n"
     ]
    }
   ],
   "source": [
    "## Creatting column for the Product Table \n",
    "\n",
    "df_product_table[\"hts_code\"] = data_transformed[\"hts_code\"]\n",
    "df_product_table[\"hts_code_description\"] = data_transformed[\"hts_code_description\"]\n",
    "df_product_table[\"commercial_description\"] = data_transformed[\"hts_code_description\"]\n",
    "df_product_table[\"description1\"] = data_transformed[\"hts_code_description\"]\n",
    "df_product_table[\"description2\"] = data_transformed[\"hts_code_description\"]\n",
    "df_product_table[\"description3\"] = data_transformed[\"hts_code_description\"]\n",
    "df_product_table[\"description4\"] = data_transformed[\"hts_code_description\"]\n",
    "df_product_table[\"description5\"] = data_transformed[\"hts_code_description\"]\n",
    "df_product_table[\"description\"] = data_transformed[\"hts_code_description\"]\n",
    "\n",
    "df_product_table.drop_duplicates(inplace = True)\n",
    "\n",
    "df_product_table.info()"
   ]
  },
  {
   "cell_type": "markdown",
   "metadata": {},
   "source": [
    "#### Port table"
   ]
  },
  {
   "cell_type": "code",
   "execution_count": 11,
   "metadata": {},
   "outputs": [
    {
     "output_type": "execute_result",
     "data": {
      "text/plain": [
       "port_name    2915\n",
       "latitude     2961\n",
       "longitude    2960\n",
       "country       180\n",
       "dtype: int64"
      ]
     },
     "metadata": {},
     "execution_count": 11
    }
   ],
   "source": [
    "# transformations...\n",
    "df_port_table.dropna(inplace = True)\n",
    "df_port_table.nunique()"
   ]
  },
  {
   "cell_type": "markdown",
   "metadata": {},
   "source": [
    "#### Importer Table"
   ]
  },
  {
   "cell_type": "code",
   "execution_count": 12,
   "metadata": {},
   "outputs": [
    {
     "output_type": "stream",
     "name": "stdout",
     "text": [
      "<class 'pandas.core.frame.DataFrame'>\nInt64Index: 27 entries, 0 to 212\nData columns (total 2 columns):\n #   Column  Non-Null Count  Dtype \n---  ------  --------------  ----- \n 0   tax_id  27 non-null     int64 \n 1   name    27 non-null     object\ndtypes: int64(1), object(1)\nmemory usage: 648.0+ bytes\n"
     ]
    },
    {
     "output_type": "execute_result",
     "data": {
      "text/plain": [
       "tax_id    27\n",
       "name      27\n",
       "dtype: int64"
      ]
     },
     "metadata": {},
     "execution_count": 12
    }
   ],
   "source": [
    "## Creatting column for the Importer Table \n",
    "\n",
    "df_importer_table[\"tax_id\"] = data_transformed[\"tax_id\"]\n",
    "df_importer_table[\"name\"] = data_transformed[\"name\"]\n",
    "df_importer_table.drop_duplicates(inplace = True)\n",
    "\n",
    "df_importer_table.info()\n",
    "df_importer_table.nunique()"
   ]
  },
  {
   "cell_type": "markdown",
   "metadata": {},
   "source": [
    "### Creating database connection"
   ]
  },
  {
   "cell_type": "code",
   "execution_count": 13,
   "metadata": {},
   "outputs": [],
   "source": [
    "# pip install psycopg2"
   ]
  },
  {
   "cell_type": "code",
   "execution_count": 14,
   "metadata": {},
   "outputs": [],
   "source": [
    "connection_string = \"root:root@localhost:5432/custom_analysis_db\"\n",
    "engine = create_engine(f'postgresql://{connection_string}')"
   ]
  },
  {
   "cell_type": "code",
   "execution_count": 15,
   "metadata": {},
   "outputs": [
    {
     "output_type": "stream",
     "name": "stderr",
     "text": [
      "<ipython-input-15-2d97e9123e98>:2: SADeprecationWarning: The Engine.table_names() method is deprecated and will be removed in a future release.  Please refer to Inspector.get_table_names(). (deprecated since: 1.4)\n  engine.table_names()\n"
     ]
    },
    {
     "output_type": "execute_result",
     "data": {
      "text/plain": [
       "['ports', 'product', 'transaction', 'importer']"
      ]
     },
     "metadata": {},
     "execution_count": 15
    }
   ],
   "source": [
    "# Confirm tables\n",
    "engine.table_names()"
   ]
  },
  {
   "cell_type": "markdown",
   "metadata": {},
   "source": [
    "### Loading DataFrames into database"
   ]
  },
  {
   "cell_type": "code",
   "execution_count": 16,
   "metadata": {},
   "outputs": [],
   "source": [
    "df_importer_table.to_sql(name='importer', con=engine, if_exists = \"append\", index = False)\n",
    "df_product_table.to_sql(name='product', con=engine, if_exists = \"append\", index = False)\n",
    "# df_port_table.to_sql(name='ports', con=engine, if_exists = \"append\", index = False)\n",
    "df_transaction_table.to_sql(name='transaction', con=engine, if_exists = \"append\", index = False)"
   ]
  },
  {
   "cell_type": "markdown",
   "metadata": {},
   "source": [
    "### Verifying that the data is in the database"
   ]
  },
  {
   "cell_type": "code",
   "execution_count": 17,
   "metadata": {},
   "outputs": [
    {
     "output_type": "execute_result",
     "data": {
      "text/plain": [
       "[('059075 | 3', datetime.date(2021, 2, 13), '118-2021-299', 'MEXICO', 'SWITZERLAND', 'CARTAGENA', 'MARÍTIMO', 'TRAMARSA - TRABAJOS MARITIMOS S.A.', 'ADUANERA CAPRICORNIO S.A. AGENTES DE ADUANA', 'MARITIMA DEL CALLAO', 20692, 20000, 59354.0, 646.0, 60000.0, 60052.8, 2.967, 3.002, 'CHEMOURS INTERNATIONAL OPERATIONS', 2823001000, 20600346149),\n",
       " ('004941 | 1', datetime.date(2021, 1, 7), '118-2020-2907', 'UNITED STATES', 'UNITED STATES', 'NEW ORLEANS INTERNATIONAL APT', 'MARÍTIMO', 'COSCO PERU S.A.', 'ADUANERA CAPRICORNIO S.A. AGENTES DE ADUANA', 'MARITIMA DEL CALLAO', 20878, 20000, 57148.0, 852.0, 58000.0, 58051.04, 2.857, 2.902, 'THE CHEMOURS COMPANY FC,LLC', 2823001000, 20600346149),\n",
       " ('042889 | 3', datetime.date(2021, 2, 2), '118-2021-191', 'MEXICO', 'SWITZERLAND', 'ALTAMIRA', 'MARÍTIMO', 'TRAMARSA - TRABAJOS MARITIMOS S.A.', 'ADUANERA CAPRICORNIO S.A. AGENTES DE ADUANA', 'MARITIMA DEL CALLAO', 20641, 20000, 59354.0, 646.0, 60000.0, 60052.8, 2.967, 3.002, 'CHEMOURS INTERNATIONAL OPERATIONS', 2823001000, 20600346149),\n",
       " ('059075 | 4', datetime.date(2021, 2, 13), '118-2021-299', 'MEXICO', 'SWITZERLAND', 'CARTAGENA', 'MARÍTIMO', 'TRAMARSA - TRABAJOS MARITIMOS S.A.', 'ADUANERA CAPRICORNIO S.A. AGENTES DE ADUANA', 'MARITIMA DEL CALLAO', 20692, 20000, 59354.0, 646.0, 60000.0, 60052.8, 2.967, 3.002, 'CHEMOURS INTERNATIONAL OPERATIONS', 2823001000, 20600346149),\n",
       " ('004941 | 5', datetime.date(2021, 1, 7), '118-2020-2907', 'UNITED STATES', 'UNITED STATES', 'NEW ORLEANS INTERNATIONAL APT', 'MARÍTIMO', 'COSCO PERU S.A.', 'ADUANERA CAPRICORNIO S.A. AGENTES DE ADUANA', 'MARITIMA DEL CALLAO', 20878, 20000, 57148.0, 852.0, 58000.0, 58051.04, 2.857, 2.902, 'THE CHEMOURS COMPANY FC,LLC', 2823001000, 20600346149)]"
      ]
     },
     "metadata": {},
     "execution_count": 17
    }
   ],
   "source": [
    "engine.execute('SELECT * FROM public.transaction LIMIT 5').fetchall()"
   ]
  },
  {
   "cell_type": "code",
   "execution_count": 18,
   "metadata": {},
   "outputs": [
    {
     "output_type": "execute_result",
     "data": {
      "text/plain": [
       "[(20600346149, 'ANYPSA CORPORATION SOCIEDAD ANONIMA - ANYPSA CORPORATION S.A.'),\n",
       " (20563120135, 'FRUTAROM PERU S.A.'),\n",
       " (20100281245, 'QUIMICA ANDERS SAC                                                                                  '),\n",
       " (20514067377, 'CORPORACION CRONS PERU SOCIEDAD ANONIMA CERRADA'),\n",
       " (20331752054, 'DESARROLLOS QUIMICOS METALURGICOS EIRL                                                              ')]"
      ]
     },
     "metadata": {},
     "execution_count": 18
    }
   ],
   "source": [
    "engine.execute('SELECT * FROM public.importer LIMIT 5').fetchall()"
   ]
  },
  {
   "cell_type": "code",
   "execution_count": 19,
   "metadata": {},
   "outputs": [
    {
     "output_type": "execute_result",
     "data": {
      "text/plain": [
       "[(2823001000, 'DIÓXIDO DE TITANIUM (O ANHIDRIDO OXIDO TITANIC TITANIC)', 'DIÓXIDO DE TITANIUM (O ANHIDRIDO OXIDO TITANIC TITANIC)', 'DIÓXIDO DE TITANIUM (O ANHIDRIDO OXIDO TITANIC TITANIC)', 'DIÓXIDO DE TITANIUM (O ANHIDRIDO OXIDO TITANIC TITANIC)', 'DIÓXIDO DE TITANIUM (O ANHIDRIDO OXIDO TITANIC TITANIC)', 'DIÓXIDO DE TITANIUM (O ANHIDRIDO OXIDO TITANIC TITANIC)', 'DIÓXIDO DE TITANIUM (O ANHIDRIDO OXIDO TITANIC TITANIC)', 'DIÓXIDO DE TITANIUM (O ANHIDRIDO OXIDO TITANIC TITANIC)'),\n",
       " (3206110000, 'PIGMENTS AND PREPARE.\\xa0BASED ON TITANIUM DIOXIDE> = 80% BY WEIGHT, CALC.\\xa0ON MAT.SEC', 'PIGMENTS AND PREPARE.\\xa0BASED ON TITANIUM DIOXIDE> = 80% BY WEIGHT, CALC.\\xa0ON MAT.SEC', 'PIGMENTS AND PREPARE.\\xa0BASED ON TITANIUM DIOXIDE> = 80% BY WEIGHT, CALC.\\xa0ON MAT.SEC', 'PIGMENTS AND PREPARE.\\xa0BASED ON TITANIUM DIOXIDE> = 80% BY WEIGHT, CALC.\\xa0ON MAT.SEC', 'PIGMENTS AND PREPARE.\\xa0BASED ON TITANIUM DIOXIDE> = 80% BY WEIGHT, CALC.\\xa0ON MAT.SEC', 'PIGMENTS AND PREPARE.\\xa0BASED ON TITANIUM DIOXIDE> = 80% BY WEIGHT, CALC.\\xa0ON MAT.SEC', 'PIGMENTS AND PREPARE.\\xa0BASED ON TITANIUM DIOXIDE> = 80% BY WEIGHT, CALC.\\xa0ON MAT.SEC', 'PIGMENTS AND PREPARE.\\xa0BASED ON TITANIUM DIOXIDE> = 80% BY WEIGHT, CALC.\\xa0ON MAT.SEC'),\n",
       " (3004902900, 'OTHER DRUGS FOR HUMAN USE', 'OTHER DRUGS FOR HUMAN USE', 'OTHER DRUGS FOR HUMAN USE', 'OTHER DRUGS FOR HUMAN USE', 'OTHER DRUGS FOR HUMAN USE', 'OTHER DRUGS FOR HUMAN USE', 'OTHER DRUGS FOR HUMAN USE', 'OTHER DRUGS FOR HUMAN USE'),\n",
       " (3210009000, 'OTHER PAINTS AND VARNISHES (EG .: WATER PAINTS)', 'OTHER PAINTS AND VARNISHES (EG .: WATER PAINTS)', 'OTHER PAINTS AND VARNISHES (EG .: WATER PAINTS)', 'OTHER PAINTS AND VARNISHES (EG .: WATER PAINTS)', 'OTHER PAINTS AND VARNISHES (EG .: WATER PAINTS)', 'OTHER PAINTS AND VARNISHES (EG .: WATER PAINTS)', 'OTHER PAINTS AND VARNISHES (EG .: WATER PAINTS)', 'OTHER PAINTS AND VARNISHES (EG .: WATER PAINTS)'),\n",
       " (3206190000, 'OTHER PIGMENTS AND PREPARATIONS OF TITANIUM DIOXIDE', 'OTHER PIGMENTS AND PREPARATIONS OF TITANIUM DIOXIDE', 'OTHER PIGMENTS AND PREPARATIONS OF TITANIUM DIOXIDE', 'OTHER PIGMENTS AND PREPARATIONS OF TITANIUM DIOXIDE', 'OTHER PIGMENTS AND PREPARATIONS OF TITANIUM DIOXIDE', 'OTHER PIGMENTS AND PREPARATIONS OF TITANIUM DIOXIDE', 'OTHER PIGMENTS AND PREPARATIONS OF TITANIUM DIOXIDE', 'OTHER PIGMENTS AND PREPARATIONS OF TITANIUM DIOXIDE')]"
      ]
     },
     "metadata": {},
     "execution_count": 19
    }
   ],
   "source": [
    "engine.execute('SELECT * FROM public.product LIMIT 5').fetchall()"
   ]
  },
  {
   "cell_type": "code",
   "execution_count": 20,
   "metadata": {},
   "outputs": [
    {
     "output_type": "execute_result",
     "data": {
      "text/plain": [
       "[]"
      ]
     },
     "metadata": {},
     "execution_count": 20
    }
   ],
   "source": [
    "engine.execute('SELECT * FROM public.ports LIMIT 5').fetchall()"
   ]
  }
 ],
 "metadata": {
  "kernelspec": {
   "display_name": "Python 3",
   "language": "python",
   "name": "python3"
  },
  "language_info": {
   "codemirror_mode": {
    "name": "ipython",
    "version": 3
   },
   "file_extension": ".py",
   "mimetype": "text/x-python",
   "name": "python",
   "nbconvert_exporter": "python",
   "pygments_lexer": "ipython3",
   "version": "3.8.8"
  }
 },
 "nbformat": 4,
 "nbformat_minor": 4
}